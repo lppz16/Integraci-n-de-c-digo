{
 "cells": [
  {
   "cell_type": "markdown",
   "metadata": {},
   "source": [
    "# Ejercicio propuesto por el docente:"
   ]
  },
  {
   "cell_type": "code",
   "execution_count": null,
   "metadata": {},
   "outputs": [],
   "source": [
    "print(\"Ejercicio propuesto por el docente:\")\n",
    "num = [x for x in range (1, 11)]\n",
    "print(f\"La lista por comprensión es: {num}\")"
   ]
  },
  {
   "cell_type": "markdown",
   "metadata": {},
   "source": [
    "1. El \"print\" fue utilizado para imprimir o mostrar el texto que está entre parentesís y comillas al usuario.\n",
    "2. Asignamos una variable llamada \"num\", la cual va a tener en su interior el proceso de la lista por comprensión.\n",
    "3. Una lista por comprensión es aquella que tiene un ciclo o un bucle dentro de si misma.\n",
    "4. En este caso, utilizamos el bucle \"for\", donde \"x\" son los números o elementos que se van a agregar dentro de la lista (cabe resaltar, que \"x\" puede ser cualquier letra)\n",
    "5. El \"range\" es donde vamos a determinar desde y hasta donde van a ir los elementos que se ingresen dentro de la lista (Cabe resaltar, que el último número no se va a agregar)\n",
    "6.Volvemos a utilizar \"print\" con una cadena de \"f string\" para poder tener dentro de la cadena una variable y lo que queramos imprimir, que en este caso la variable sería la lista por comprensión.\n"
   ]
  },
  {
   "cell_type": "markdown",
   "metadata": {},
   "source": [
    "# Ejercicio creativo:"
   ]
  },
  {
   "cell_type": "code",
   "execution_count": null,
   "metadata": {},
   "outputs": [],
   "source": [
    "\n",
    "print(\"****Sr. Usuario, a través de este software podrás visualizar una lista por comprensión con los números que usted desee****\")\n",
    "print(\" \")\n",
    "z = int(input(\"Ingrese desde qué número quieres que vaya la lista: \"))\n",
    "m = int(input(\"Ingrese hasta qué número quiere que vaya la lista: \"))\n",
    "m+=1\n",
    "print(\" \")\n",
    "\n",
    "num = [x for x in range(z, m)]\n",
    "print(f\"Su lista por comprensión es la siguiente: {num}\")"
   ]
  },
  {
   "cell_type": "markdown",
   "metadata": {},
   "source": [
    "El anterior código fue el que hice como creativo teniendo en cuenta las condiciones que me pusieron anteriormente.\n",
    "\n",
    "1. El primer \"print\" es para darle la bienvenida al usuario, además, le explicamos de qué trata este software.\n",
    "2. El segundo \"print\" lo utilizamos como estética para dejar espacio.\n",
    "3. Definimos \"z\" como una variable, en donde utilizamos \"int\" para definirla como un entero y luego \"input\" para que el usuario ingrese aquel número entero que lo utilizaremos para saber desde dónde va a comenzar nuestra lista por comprensión.\n",
    "4. Definimos \"m\" como una variable, en donde utilizamos \"int\" para definirla como un entero y luego \"input\" para que el usuario ingrese aquel número entero que lo utilizaremos para saber hasta dónde va a ir nuestra lista por comprensión.\n",
    "5. Luego, el sumamos 1 a la variable de \"m\", debido a que el último número no se va a agregar.\n",
    "6. Utilizamos \"print\" como estética para dejar espacio.\n",
    "7. Una lista por comprensión es aquella que tiene un ciclo o un bucle dentro de si misma.\n",
    "8. En este caso, utilizamos el bucle \"for\", donde \"x\" son los números o elementos que se van a agregar dentro de la lista (cabe resaltar, que \"x\" puede ser cualquier letra)\n",
    "9. El \"range\" es donde vamos a determinar desde y hasta donde van a ir los elementos que se ingresen dentro de la lista. En este caso, el range lo determina el usuario a través de la variables \"m\" y \"z\".\n",
    "10. Finalmente, volvemos a utilizar \"print\" con una cadena de \"f string\" para poder tener dentro de la cadena una variable y lo que queramos imprimir, que en este caso la variable sería la lista por comprensión, es decir, \"num\".\n"
   ]
  }
 ],
 "metadata": {
  "language_info": {
   "name": "python"
  }
 },
 "nbformat": 4,
 "nbformat_minor": 2
}
